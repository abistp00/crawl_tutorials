{
 "cells": [
  {
   "cell_type": "markdown",
   "metadata": {},
   "source": [
    "# Basic Operations, Variables, and Loops\n",
    "---"
   ]
  },
  {
   "cell_type": "markdown",
   "metadata": {},
   "source": [
    "# 1. Operators\n",
    "---\n",
    "Equality '=': **Assign a value** (right) on a variable (left).  \n",
    "This is **NEVER** a comparison of equality."
   ]
  },
  {
   "cell_type": "code",
   "execution_count": 1,
   "metadata": {},
   "outputs": [
    {
     "name": "stdout",
     "output_type": "stream",
     "text": [
      "1\n"
     ]
    }
   ],
   "source": [
    "# Example\n",
    "a = 1\n",
    "print(a)"
   ]
  },
  {
   "cell_type": "markdown",
   "metadata": {},
   "source": [
    "- **Modulo** operator.  \n",
    "`//`: Returns a **quotient**.  \n",
    "`%`: Returns a **remainder** (rest)."
   ]
  },
  {
   "cell_type": "code",
   "execution_count": 2,
   "metadata": {},
   "outputs": [
    {
     "name": "stdout",
     "output_type": "stream",
     "text": [
      "2.3333333333333335\n",
      "2\n",
      "1\n"
     ]
    }
   ],
   "source": [
    "# Example\n",
    "a = 7\n",
    "print(a/3)\n",
    "print(a//3)\n",
    "print(a%3)"
   ]
  },
  {
   "cell_type": "markdown",
   "metadata": {},
   "source": [
    "Modulo operators are supposed to be used for `int` operations.  \n",
    "**Be careful** when using them for `float`s."
   ]
  },
  {
   "cell_type": "code",
   "execution_count": 4,
   "metadata": {},
   "outputs": [
    {
     "name": "stdout",
     "output_type": "stream",
     "text": [
      "2.0\n",
      "0.3999999999999999\n",
      "a\n"
     ]
    }
   ],
   "source": [
    "# Example\n",
    "print(3//1.3)\n",
    "print(3%1.3)"
   ]
  },
  {
   "cell_type": "markdown",
   "metadata": {},
   "source": [
    "# 2. Hello, World!\n",
    "---\n",
    "Print 'Hello, World!'."
   ]
  },
  {
   "cell_type": "code",
   "execution_count": 4,
   "metadata": {},
   "outputs": [
    {
     "name": "stdout",
     "output_type": "stream",
     "text": [
      "Hello, World!\n"
     ]
    }
   ],
   "source": [
    "# Example\n",
    "print('Hello, World!')"
   ]
  },
  {
   "cell_type": "markdown",
   "metadata": {},
   "source": [
    "# 3. Array List\n",
    "----\n",
    "An array is an ordered collection of values, assigned to a variable name.  \n",
    "Values are **encapsulated by a bracket**, [ ], and the elements are **separated by commas**.\n",
    "- Example: `a = [1, 2, 3]`"
   ]
  },
  {
   "cell_type": "code",
   "execution_count": 5,
   "metadata": {},
   "outputs": [
    {
     "name": "stdout",
     "output_type": "stream",
     "text": [
      "[1, 2, 3]\n"
     ]
    }
   ],
   "source": [
    "# Exmaple\n",
    "a = [1, 2, 3]\n",
    "print(a)"
   ]
  },
  {
   "cell_type": "markdown",
   "metadata": {},
   "source": [
    "Each element is invoked by an **integer-valued index**, starting **always from 0**.  \n",
    "The length of a list can be **subscribed** by calling `len()` function.  \n",
    "The index of the **last** component of a list is, therefore, `len() - 1`."
   ]
  },
  {
   "cell_type": "code",
   "execution_count": 14,
   "metadata": {},
   "outputs": [
    {
     "name": "stdout",
     "output_type": "stream",
     "text": [
      "Elements of a list are:  1 2 3\n",
      "The length of a list is: 3\n"
     ]
    }
   ],
   "source": [
    "print('Elements of a list are: ', a[0], a[1], a[2])\n",
    "print('The length of a list is:', len(a))"
   ]
  },
  {
   "cell_type": "markdown",
   "metadata": {},
   "source": [
    "# 4. String\n",
    "---\n",
    "String is a sequence of characters. In Python, a string can be treated as if it is a list."
   ]
  },
  {
   "cell_type": "code",
   "execution_count": 5,
   "metadata": {},
   "outputs": [
    {
     "name": "stdout",
     "output_type": "stream",
     "text": [
      "Hello, Python!\n",
      "0-th component: H\n",
      "1-th component: e\n",
      "2-th component: l\n"
     ]
    }
   ],
   "source": [
    "string = 'Hello, Python!'\n",
    "print(string)\n",
    "print('0-th component:', string[0])\n",
    "print('1-th component:', string[1])\n",
    "print('2-th component:', string[2])"
   ]
  },
  {
   "cell_type": "code",
   "execution_count": 2,
   "metadata": {},
   "outputs": [
    {
     "name": "stdout",
     "output_type": "stream",
     "text": [
      "[1, 2, 3]\n",
      "0-th component: 1\n",
      "1-th component: 2\n",
      "2-th component: 3\n"
     ]
    }
   ],
   "source": [
    "a = [1, 2, 3]\n",
    "print(a)\n",
    "print('0-th component:', a[0])\n",
    "print('1-th component:', a[1])\n",
    "print('2-th component:', a[2])"
   ]
  },
  {
   "cell_type": "markdown",
   "metadata": {},
   "source": [
    "But a string is not a list; they are **different types** of variables."
   ]
  },
  {
   "cell_type": "code",
   "execution_count": 19,
   "metadata": {},
   "outputs": [
    {
     "name": "stdout",
     "output_type": "stream",
     "text": [
      "<class 'int'> <class 'float'> <class 'str'> <class 'list'> <class 'list'>\n"
     ]
    }
   ],
   "source": [
    "print(type(3), type(1.3), type('a'), type([1, 2, 3]), type(['1', '2', '3']))"
   ]
  },
  {
   "cell_type": "code",
   "execution_count": 15,
   "metadata": {},
   "outputs": [
    {
     "data": {
      "text/plain": [
       "False"
      ]
     },
     "execution_count": 15,
     "metadata": {},
     "output_type": "execute_result"
    }
   ],
   "source": [
    "type('a') is type([])"
   ]
  },
  {
   "cell_type": "markdown",
   "metadata": {},
   "source": [
    "# 4. 1. String operation\n",
    "`+`: **Merges** two strings in order.  \n",
    "`-`, `/`, `//`, `%`: **Undefined**."
   ]
  },
  {
   "cell_type": "code",
   "execution_count": 16,
   "metadata": {},
   "outputs": [
    {
     "name": "stdout",
     "output_type": "stream",
     "text": [
      "ab\n"
     ]
    }
   ],
   "source": [
    "# Example:\n",
    "print('a' + 'b')"
   ]
  },
  {
   "cell_type": "markdown",
   "metadata": {},
   "source": [
    "# 5. Loops\n",
    "---\n",
    "When we want to **repeat the same operation** many times, the whole process can be **automated**.\n",
    "## 5. 1. For - loops\n",
    "- Repeat using a counter, so called **iterator**.\n",
    "- The basic iterator is a list of integers.\n",
    "- Using a list [0, 1, 2, 3, 4], we can repeat a paragraph while an iterator traverses from 0 to 4."
   ]
  },
  {
   "cell_type": "code",
   "execution_count": 26,
   "metadata": {},
   "outputs": [
    {
     "name": "stdout",
     "output_type": "stream",
     "text": [
      "0\n",
      "1\n",
      "2\n",
      "3\n",
      "4\n"
     ]
    }
   ],
   "source": [
    "# Example\n",
    "for i in [0, 1, 2, 3, 4]:\n",
    "    print(i)"
   ]
  },
  {
   "cell_type": "markdown",
   "metadata": {},
   "source": [
    "- Or, equivalently, use a `range(int)` function.  \n",
    "  `range(n)` returns an integer **ranging** from `0` to `n-1`, at every invoke.\n",
    "- `range(start, end, step)` returns integers starting from `start` **before** reaching `end` with a step size `step`.  "
   ]
  },
  {
   "cell_type": "code",
   "execution_count": 27,
   "metadata": {},
   "outputs": [
    {
     "name": "stdout",
     "output_type": "stream",
     "text": [
      "0\n",
      "1\n",
      "2\n",
      "3\n",
      "4\n"
     ]
    }
   ],
   "source": [
    "# Example\n",
    "for i in range(5):\n",
    "    print(i)"
   ]
  },
  {
   "cell_type": "code",
   "execution_count": 30,
   "metadata": {},
   "outputs": [
    {
     "name": "stdout",
     "output_type": "stream",
     "text": [
      "3\n",
      "7\n"
     ]
    }
   ],
   "source": [
    "# Example\n",
    "for i in range(3, 10, 4):\n",
    "    print(i)"
   ]
  },
  {
   "cell_type": "markdown",
   "metadata": {},
   "source": [
    "## 5. 2. While - loops\n",
    "- Repeat a paragraph **during** a condition is satisfied.\n",
    "- Need not an iterator."
   ]
  },
  {
   "cell_type": "code",
   "execution_count": 20,
   "metadata": {},
   "outputs": [
    {
     "name": "stdout",
     "output_type": "stream",
     "text": [
      "0\n",
      "1\n",
      "2\n",
      "3\n",
      "4\n"
     ]
    }
   ],
   "source": [
    "# Example\n",
    "i = 0\n",
    "while i < 5:\n",
    "    print(i)\n",
    "    i = i + 1"
   ]
  },
  {
   "cell_type": "code",
   "execution_count": 32,
   "metadata": {},
   "outputs": [
    {
     "name": "stdout",
     "output_type": "stream",
     "text": [
      "0\n",
      "1\n",
      "2\n",
      "3\n",
      "4\n"
     ]
    }
   ],
   "source": [
    "# Example\n",
    "i = 0\n",
    "while True:\n",
    "    if i is 5:\n",
    "        break\n",
    "    print(i)\n",
    "    i = i + 1"
   ]
  },
  {
   "cell_type": "markdown",
   "metadata": {},
   "source": [
    "# 6. Booleans and more Operators\n",
    "---\n",
    "## 6. 1. Boolean\n",
    "- A boolean is a data type which has either `True` or `False`.\n",
    "- In many cases, `True` can be **replaced** by 1, and `False` by 0.\n",
    "---\n",
    "\n",
    "## 6. 2. Unary Operator\n",
    "- `not` returns a value, opposite to the origianl value of the boolean.\n",
    "\n",
    "---\n",
    "## 6. 3. Binary Operators\n",
    "- `==` or `is`: **Returns a boolean**, `True` if two variables on both sides of the operators are the same.  \n",
    "              : Returns `False`, otherwise.\n",
    "- `!=` or `is not`: Returns `True` if two variables are not the same, and `False` otherwise."
   ]
  },
  {
   "cell_type": "code",
   "execution_count": 40,
   "metadata": {},
   "outputs": [
    {
     "name": "stdout",
     "output_type": "stream",
     "text": [
      "True True True False True True\n",
      "True False False True True True\n"
     ]
    }
   ],
   "source": [
    "# Example\n",
    "print(1==1, 'a'=='a', 1 is 1, 1 is 0, 'a' is not 0, 'a' != 0)\n",
    "print(True, False, True is False, True is not False, False is not True, not False)"
   ]
  },
  {
   "cell_type": "markdown",
   "metadata": {},
   "source": [
    "# 7. if , if/else - Clause\n",
    "---\n",
    "A Boolean is very useful to make a conditional statement using `if` clauses.\n",
    "- `if condition: <sub-statement>`  \n",
    "  1. Check whether the condition is `True` or `False`. If `True`, the sub-statement is executed.\n",
    "  2. If `False`, skip the whole paragraph (sub-statement) encapsuated by `if` clause.\n",
    "- `if condition: <sub-statement> else: <...>`  \n",
    "  1. If the condition is `True`, execute the sub-statement.\n",
    "  2. If `False`, skip to the sub-statement of `else` clause.\n",
    "- `if condition1: <A> elif condition2: <B> elif condition3: <C> else: <D>`  \n",
    "  We can make a case-by-case process combining `if` and `elif` and `else`."
   ]
  },
  {
   "cell_type": "code",
   "execution_count": 41,
   "metadata": {},
   "outputs": [
    {
     "name": "stdout",
     "output_type": "stream",
     "text": [
      "0 is an even number.\n",
      "2 is an even number.\n",
      "4 is an even number.\n",
      "6 is an even number.\n",
      "8 is an even number.\n"
     ]
    }
   ],
   "source": [
    "# Example\n",
    "for i in range(10):\n",
    "    if i%2 == 0:\n",
    "        print(i, 'is an even number.')"
   ]
  },
  {
   "cell_type": "code",
   "execution_count": 42,
   "metadata": {},
   "outputs": [
    {
     "name": "stdout",
     "output_type": "stream",
     "text": [
      "0 is an even number.\n",
      "1 is an odd number.\n",
      "2 is an even number.\n",
      "3 is an odd number.\n",
      "4 is an even number.\n",
      "5 is an odd number.\n",
      "6 is an even number.\n",
      "7 is an odd number.\n",
      "8 is an even number.\n",
      "9 is an odd number.\n"
     ]
    }
   ],
   "source": [
    "# Example\n",
    "for i in range(10):\n",
    "    if i%2 == 0:\n",
    "        print(i, 'is an even number.')\n",
    "    else:\n",
    "        print(i, 'is an odd number.')"
   ]
  },
  {
   "cell_type": "code",
   "execution_count": 54,
   "metadata": {},
   "outputs": [
    {
     "name": "stdout",
     "output_type": "stream",
     "text": [
      "0 is a multiple of 3.\n",
      "1 is neither a muliple of 2 nor 3.\n",
      "2 is an even number, but not a multiple of 3.\n",
      "3 is a multiple of 3.\n",
      "4 is an even number, but not a multiple of 3.\n",
      "5 is neither a muliple of 2 nor 3.\n",
      "6 is a multiple of 3.\n",
      "7 is neither a muliple of 2 nor 3.\n",
      "8 is an even number, but not a multiple of 3.\n",
      "9 is a multiple of 3.\n"
     ]
    }
   ],
   "source": [
    "# Example\n",
    "for i in range(10):\n",
    "    if i%3 == 0:\n",
    "        print(i, 'is a multiple of 3.')\n",
    "    elif i%2 == 0:\n",
    "        print(i, 'is an even number, but not a multiple of 3.')\n",
    "    else:\n",
    "        print(i, 'is neither a muliple of 2 nor 3.')"
   ]
  },
  {
   "cell_type": "markdown",
   "metadata": {},
   "source": [
    "# Homeworks\n",
    "1. Practice 'Hello, World!' in Pycharm.\n",
    "2. Print each letter of `Hello, World!` in a reverse order, line-by-line.\n",
    "3. Print 0 to 9 in reverse order."
   ]
  },
  {
   "cell_type": "code",
   "execution_count": 4,
   "metadata": {},
   "outputs": [
    {
     "name": "stdout",
     "output_type": "stream",
     "text": [
      "!\n",
      "d\n",
      "l\n",
      "r\n",
      "o\n",
      "W\n",
      " \n",
      ",\n",
      "o\n",
      "l\n",
      "l\n",
      "e\n",
      "H\n"
     ]
    }
   ],
   "source": [
    "string = 'Hello, World!'\n",
    "for i in range(len(string)):\n",
    "    print(string[len(string) -1 -i])"
   ]
  },
  {
   "cell_type": "code",
   "execution_count": 5,
   "metadata": {},
   "outputs": [
    {
     "name": "stdout",
     "output_type": "stream",
     "text": [
      "!\n",
      "d\n",
      "l\n",
      "r\n",
      "o\n",
      "W\n",
      " \n",
      ",\n",
      "o\n",
      "l\n",
      "l\n",
      "e\n",
      "H\n"
     ]
    }
   ],
   "source": [
    "for s in string[::-1]:\n",
    "    print(s)"
   ]
  },
  {
   "cell_type": "code",
   "execution_count": 7,
   "metadata": {},
   "outputs": [
    {
     "name": "stdout",
     "output_type": "stream",
     "text": [
      "9\n",
      "8\n",
      "7\n",
      "6\n",
      "5\n",
      "4\n",
      "3\n",
      "2\n",
      "1\n",
      "0\n"
     ]
    }
   ],
   "source": [
    "for i in range(10)[::-1]:\n",
    "    print(i)"
   ]
  },
  {
   "cell_type": "code",
   "execution_count": null,
   "metadata": {},
   "outputs": [],
   "source": []
  }
 ],
 "metadata": {
  "kernelspec": {
   "display_name": "Python 3",
   "language": "python",
   "name": "python3"
  },
  "language_info": {
   "codemirror_mode": {
    "name": "ipython",
    "version": 3
   },
   "file_extension": ".py",
   "mimetype": "text/x-python",
   "name": "python",
   "nbconvert_exporter": "python",
   "pygments_lexer": "ipython3",
   "version": "3.7.1"
  }
 },
 "nbformat": 4,
 "nbformat_minor": 2
}
