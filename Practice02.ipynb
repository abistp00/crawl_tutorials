{
 "cells": [
  {
   "cell_type": "markdown",
   "metadata": {},
   "source": [
    "# 2D array, Dictionary, and Functions"
   ]
  },
  {
   "cell_type": "markdown",
   "metadata": {},
   "source": [
    "---\n",
    "# 0. List operations\n",
    "Most important operations are given as follows.\n",
    "- `+`: `[1]` + `[2]` becomes `[1, 2]`.\n",
    "- `list.append()`: `[1].append(2)` becomes `[1, 2]`.\n",
    "- `list.pop()`: Returns the **last** element of the list and **remove** from the list.\n",
    "- `list.pop(index)`: Returns the element of the given index from the list, then pop it.\n",
    "- `list.extend()`: Merges two list in an **element-wise** manner. Compare with `append()`.\n",
    "- `list.index()`: Returns the index of a given element in the list, **if exists**."
   ]
  },
  {
   "cell_type": "code",
   "execution_count": 1,
   "metadata": {},
   "outputs": [
    {
     "name": "stdout",
     "output_type": "stream",
     "text": [
      "1\n",
      "3\n"
     ]
    },
    {
     "ename": "ValueError",
     "evalue": "8 is not in list",
     "output_type": "error",
     "traceback": [
      "\u001b[0;31m---------------------------------------------------------------------------\u001b[0m",
      "\u001b[0;31mValueError\u001b[0m                                Traceback (most recent call last)",
      "\u001b[0;32m<ipython-input-1-8f657fe55606>\u001b[0m in \u001b[0;36m<module>\u001b[0;34m\u001b[0m\n\u001b[1;32m      3\u001b[0m \u001b[0mprint\u001b[0m\u001b[0;34m(\u001b[0m\u001b[0ma\u001b[0m\u001b[0;34m.\u001b[0m\u001b[0mindex\u001b[0m\u001b[0;34m(\u001b[0m\u001b[0;36m2\u001b[0m\u001b[0;34m)\u001b[0m\u001b[0;34m)\u001b[0m\u001b[0;34m\u001b[0m\u001b[0;34m\u001b[0m\u001b[0m\n\u001b[1;32m      4\u001b[0m \u001b[0mprint\u001b[0m\u001b[0;34m(\u001b[0m\u001b[0ma\u001b[0m\u001b[0;34m.\u001b[0m\u001b[0mindex\u001b[0m\u001b[0;34m(\u001b[0m\u001b[0;36m7\u001b[0m\u001b[0;34m)\u001b[0m\u001b[0;34m)\u001b[0m\u001b[0;34m\u001b[0m\u001b[0;34m\u001b[0m\u001b[0m\n\u001b[0;32m----> 5\u001b[0;31m \u001b[0mprint\u001b[0m\u001b[0;34m(\u001b[0m\u001b[0ma\u001b[0m\u001b[0;34m.\u001b[0m\u001b[0mindex\u001b[0m\u001b[0;34m(\u001b[0m\u001b[0;36m8\u001b[0m\u001b[0;34m)\u001b[0m\u001b[0;34m)\u001b[0m\u001b[0;34m\u001b[0m\u001b[0;34m\u001b[0m\u001b[0m\n\u001b[0m",
      "\u001b[0;31mValueError\u001b[0m: 8 is not in list"
     ]
    }
   ],
   "source": [
    "# Example: index\n",
    "a = [1, 2, 3, 7, 9]\n",
    "print(a.index(2))\n",
    "print(a.index(7))\n",
    "print(a.index(8))"
   ]
  },
  {
   "cell_type": "code",
   "execution_count": 2,
   "metadata": {},
   "outputs": [
    {
     "name": "stdout",
     "output_type": "stream",
     "text": [
      "[2, 3, 7]\n"
     ]
    }
   ],
   "source": [
    "# Example: append\n",
    "a = [2, 3]\n",
    "a.append(7)\n",
    "print(a)"
   ]
  },
  {
   "cell_type": "code",
   "execution_count": 3,
   "metadata": {},
   "outputs": [
    {
     "name": "stdout",
     "output_type": "stream",
     "text": [
      "[2, 3, 4, 6]\n",
      "[2, 3]\n",
      "5 6 4\n"
     ]
    }
   ],
   "source": [
    "# Example: pop\n",
    "a = [2, 3, 4, 5, 6]\n",
    "b = a.pop(3)\n",
    "print(a)\n",
    "\n",
    "c = a.pop()\n",
    "d = a.pop()\n",
    "print(a)\n",
    "print(b, c, d)"
   ]
  },
  {
   "cell_type": "code",
   "execution_count": 4,
   "metadata": {},
   "outputs": [
    {
     "name": "stdout",
     "output_type": "stream",
     "text": [
      "a.append(b): [1, 2, 3, 4, [2, 3, 5]]\n",
      "a.extend(b): [1, 2, 3, 4, 2, 3, 5]\n"
     ]
    }
   ],
   "source": [
    "# Example: append vs. extend\n",
    "a = [1, 2, 3, 4]\n",
    "b = [2, 3, 5]\n",
    "a.append(b)\n",
    "print('a.append(b):', a)\n",
    "\n",
    "a = [1, 2, 3, 4]\n",
    "b = [2, 3, 5]\n",
    "a.extend(b)\n",
    "print('a.extend(b):', a)"
   ]
  },
  {
   "cell_type": "markdown",
   "metadata": {},
   "source": [
    "---\n",
    "# 1. 2D Array (List)\n",
    "If an array consists of elements that are also arrays, are called 2 dimensional array.\n",
    "- Suppose a 2D array `A` is `[[0, 1, 2], [2, 3, 4]]`, then `A[0]` and `A[1]` points `[0, 1, 2]` and `[2, 3, 4]`, respectively.\n",
    "- Consequently, `A[0][1] = 1`, `A[1][2] = 4` and so on.\n",
    "---\n",
    "A 2D array is very similar to a matrix.\n",
    "- The index of the **first** dimension corresponds to that of **rows**,  \n",
    "  while the **second** corresponds to that of **columns**.\n",
    "- For the above example, `A` is a $2\\times3$ matrix, and `A[i][j]` is the element at the `i`-th row and `j`-th column.  \n",
    "\n",
    "$$\n",
    "      A = \\left(\n",
    "          \\begin{array}{ccc}\n",
    "              0 & 1 & 2 \\\\\n",
    "              2 & 3 & 4\n",
    "          \\end{array}\n",
    "      \\right)\n",
    "$$\n",
    "---\n",
    "But a 2D array is not always the same as the matrix.\n",
    "- Each **sub-array** of a 2D array **may** have **different numbers of elements**.\n",
    "- For example,  \n",
    "  `A = [[0], [1, 2], [6, 5, 9, 2]]`  \n",
    "  is a 2D list, but is not a matrix."
   ]
  },
  {
   "cell_type": "code",
   "execution_count": 5,
   "metadata": {},
   "outputs": [
    {
     "name": "stdout",
     "output_type": "stream",
     "text": [
      "[[0, 1, 2], [5, 3, 4, 6], [100, -1, 7]]\n",
      "(0, 0) : 0\n",
      "(0, 1) : 1\n",
      "(0, 2) : 2\n",
      "(1, 0) : 5\n",
      "(1, 1) : 3\n",
      "(1, 2) : 4\n",
      "(1, 3) : 6\n",
      "(2, 0) : 100\n",
      "(2, 1) : -1\n",
      "(2, 2) : 7\n"
     ]
    }
   ],
   "source": [
    "# Example\n",
    "a = [[0, 1, 2], [5, 3, 4, 6], [100, -1, 7]]\n",
    "print(a)\n",
    "for i in range(len(a)):\n",
    "    for j in range(len(a[i])):\n",
    "        print((i, j), ':', a[i][j])"
   ]
  },
  {
   "cell_type": "markdown",
   "metadata": {},
   "source": [
    "## 1. 1. 2D array practice\n",
    "1. Create a 2D array with elements given by\n",
    "\n",
    "$$\n",
    "      A = \\left[\n",
    "          \\begin{array}{cccc}\n",
    "              0  &  1  &  2  &  3\\\\\n",
    "              4  &  5  &  6  &  7\\\\\n",
    "              8  &  9  & 10  & 11\n",
    "          \\end{array}\n",
    "      \\right]\n",
    "$$\n",
    "  \n",
    "  using **nested for-loops** (a for-loop inside a for-loop)."
   ]
  },
  {
   "cell_type": "code",
   "execution_count": 6,
   "metadata": {},
   "outputs": [
    {
     "name": "stdout",
     "output_type": "stream",
     "text": [
      "[[0, 1, 2, 3], [4, 5, 6, 7], [8, 9, 10, 11]]\n"
     ]
    }
   ],
   "source": [
    "# Example\n",
    "n_rows, n_cols = 3, 4\n",
    "A = []\n",
    "for i in range(n_rows):\n",
    "    A.append([])\n",
    "    for j in range(n_cols):\n",
    "        A[i].append(i * n_cols + j)\n",
    "print(A)"
   ]
  },
  {
   "cell_type": "markdown",
   "metadata": {},
   "source": [
    "2. Use **one** for-loop"
   ]
  },
  {
   "cell_type": "code",
   "execution_count": 7,
   "metadata": {},
   "outputs": [
    {
     "name": "stdout",
     "output_type": "stream",
     "text": [
      "[[0, 1, 2, 3], [4, 5, 6, 7], [8, 9, 10, 11]]\n"
     ]
    }
   ],
   "source": [
    "# Example\n",
    "A = []\n",
    "for i in range(n_rows * n_cols):\n",
    "    if i%n_cols == 0:\n",
    "        A.append([])\n",
    "    A[i//n_cols].append(i)\n",
    "print(A)"
   ]
  },
  {
   "cell_type": "markdown",
   "metadata": {},
   "source": [
    "3. In a more compact expression"
   ]
  },
  {
   "cell_type": "code",
   "execution_count": 8,
   "metadata": {},
   "outputs": [
    {
     "name": "stdout",
     "output_type": "stream",
     "text": [
      "[[0, 1, 2, 3], [4, 5, 6, 7], [8, 9, 10, 11]]\n"
     ]
    }
   ],
   "source": [
    "# Example\n",
    "A = [[None] * n_cols for i in range(n_rows)]\n",
    "for i in range(n_rows * n_cols):\n",
    "    A[i//n_cols][i%n_cols] = i\n",
    "print(A)"
   ]
  },
  {
   "cell_type": "markdown",
   "metadata": {},
   "source": [
    "---\n",
    "# 2. Dictionary\n",
    "A dictionary is similar to a 2D list, but differnt in several aspects.\n",
    "1. A dictionary encapsulates its elements by `{ }`, in contrast to the list which uses `[ ]`.\n",
    "  - Each element is defined by the **key** and **value**.\n",
    "  - Example: `cost = {'movie': 1000, 'food': 500, 'hotel': 70000}`\n",
    "2. A dictionary has **no index**. We **cannot** obtain the elements by their indices.  \n",
    "  - `A[0]` is **allowed** for a **list** `A`, but `B[0]` raises an **error** for a **dictionay** `B`.\n",
    "  - Elements of a dictionary are **not ordered**, since there is no indices.\n",
    "3. Instead, it has a `key` handle to call its element value.\n",
    "  - For a dictionary `B`, expressions such as `B['price']` are allowed."
   ]
  },
  {
   "cell_type": "code",
   "execution_count": 9,
   "metadata": {},
   "outputs": [
    {
     "name": "stdout",
     "output_type": "stream",
     "text": [
      "{1: 3, 5: [3, 4, 5], 'k': 1, 'test': ['cat', 'elephant'], 2: 'dog'}\n",
      "['cat', 'elephant']\n"
     ]
    }
   ],
   "source": [
    "# Example\n",
    "dict_A = {}\n",
    "dict_A[1] = 3\n",
    "dict_A[5] = [3, 4, 5]\n",
    "dict_A['k'] = 1\n",
    "dict_A['test'] = ['cat', 'elephant']\n",
    "dict_A[2] = 'dog'\n",
    "print(dict_A)\n",
    "print(dict_A['test'])"
   ]
  },
  {
   "cell_type": "code",
   "execution_count": 10,
   "metadata": {},
   "outputs": [
    {
     "data": {
      "text/plain": [
       "2000"
      ]
     },
     "execution_count": 10,
     "metadata": {},
     "output_type": "execute_result"
    }
   ],
   "source": [
    "#                       CGV             Megabox\n",
    "#                Adult Kids  Early \n",
    "Ticket_Price = [[1000, 2000, 1500], [1000, 2000, 1000]]\n",
    "\n",
    "Ticket_Price[0][1]   # Ticket_Price[CGV][Kids]"
   ]
  },
  {
   "cell_type": "markdown",
   "metadata": {},
   "source": [
    "# 3. Functions"
   ]
  },
  {
   "cell_type": "markdown",
   "metadata": {},
   "source": [
    "It is useful to define a function that performs complicated processes many times. Otherwise, the entire code becomes dirty, incomprehensible, and hopeless to correct bugs.\n",
    "\n",
    "---\n",
    "- **Define** a function starting with `def`.\n",
    "- A function **may** have **arguments**: one, two or many.\n",
    "- A function **may** return a value."
   ]
  },
  {
   "cell_type": "markdown",
   "metadata": {},
   "source": [
    "1. Create a function that has 2 **arguments** and **returns** the addition of them. We assume the arguments are `int` or `float` here."
   ]
  },
  {
   "cell_type": "code",
   "execution_count": 11,
   "metadata": {},
   "outputs": [
    {
     "name": "stdout",
     "output_type": "stream",
     "text": [
      "3\n"
     ]
    }
   ],
   "source": [
    "# Example\n",
    "def add(a, b):\n",
    "    value = a + b\n",
    "    return value\n",
    "\n",
    "c = add(1, 2)\n",
    "print(c)"
   ]
  },
  {
   "cell_type": "markdown",
   "metadata": {},
   "source": [
    "2. Create a function that gets a `string` then returns its reversal."
   ]
  },
  {
   "cell_type": "code",
   "execution_count": 12,
   "metadata": {},
   "outputs": [
    {
     "name": "stdout",
     "output_type": "stream",
     "text": [
      "Original  : Hello, World!\n",
      "Reversed 1: !dlroW ,olleH\n",
      "Reversed 2: !dlroW ,olleH\n"
     ]
    }
   ],
   "source": [
    "# Example\n",
    "def reverse_string1(string):\n",
    "    temp = ''\n",
    "    for i in range(len(string)):\n",
    "        temp = temp + string[len(string)-1-i]\n",
    "    return temp\n",
    "\n",
    "def reverse_string2(string):\n",
    "    return string[::-1]\n",
    "\n",
    "\n",
    "a = 'Hello, World!'\n",
    "b = reverse_string1(a)\n",
    "c = reverse_string2(a)\n",
    "print('Original  :', a)\n",
    "print('Reversed 1:', b)\n",
    "print('Reversed 2:', c)"
   ]
  },
  {
   "cell_type": "markdown",
   "metadata": {},
   "source": [
    "3. Create a function that exchanges two variables."
   ]
  },
  {
   "cell_type": "code",
   "execution_count": 13,
   "metadata": {},
   "outputs": [
    {
     "name": "stdout",
     "output_type": "stream",
     "text": [
      "Before: 10 5\n",
      "After : 5 10\n"
     ]
    }
   ],
   "source": [
    "# Example\n",
    "def swap(a, b):\n",
    "    temp = a\n",
    "    a = b\n",
    "    b = temp\n",
    "    return a, b\n",
    "\n",
    "a = 10\n",
    "b = 5\n",
    "c, d = swap(a, b)\n",
    "print('Before:', a, b)\n",
    "print('After :', c, d)"
   ]
  },
  {
   "cell_type": "code",
   "execution_count": null,
   "metadata": {},
   "outputs": [],
   "source": []
  },
  {
   "cell_type": "markdown",
   "metadata": {},
   "source": [
    "# Homeworks\n",
    "A. Create a function that returns a square of a number.  \n",
    "  - Input: num, where num is `int` or `float`.\n",
    "  - Return: $num^2$\n",
    "  - Example: `f(1.5) -> 2.25`\n",
    "\n",
    "B. Create a function that returns the sum of a number list.  \n",
    "  - Input: `list`, where list is a list of `int` or `float`.\n",
    "  - Return: Sum of all elements\n",
    "  - Example: `f([1.5, 1, 3]) -> 5.5`"
   ]
  },
  {
   "cell_type": "code",
   "execution_count": 17,
   "metadata": {},
   "outputs": [
    {
     "name": "stdout",
     "output_type": "stream",
     "text": [
      "Solution A: 6.25\n",
      "Solution B: -94\n"
     ]
    }
   ],
   "source": [
    "# Solution\n",
    "def square(num):\n",
    "    ans = num * num\n",
    "    return ans\n",
    "\n",
    "def list_sum(list):\n",
    "    ans = 0\n",
    "    for num in list:\n",
    "        ans += num\n",
    "    return ans\n",
    "\n",
    "print('Solution A:', square(2.5))\n",
    "print('Solution B:', list_sum([1, 2, 3, -100]))"
   ]
  },
  {
   "cell_type": "markdown",
   "metadata": {},
   "source": [
    "1. Create a function that returns an n-th power of a number.  \n",
    "  - Input: (num, pow), where num is `int` or `float`, and pow is `int`.\n",
    "  - Return: $num^{pow}$\n",
    "  - Example: `f(3.2, 4) -> 104.85760000000002`"
   ]
  },
  {
   "cell_type": "code",
   "execution_count": null,
   "metadata": {},
   "outputs": [],
   "source": []
  },
  {
   "cell_type": "markdown",
   "metadata": {},
   "source": [
    "2. Create a function that gets a list of numbers and returns a list of n-th power of them.\n",
    "  - Input: (`list`, pow), where list is a 1D array of `int` or `float`.\n",
    "  - Return: `list`\n",
    "  - Example: `f([1, 2, 3], 2) -> [1, 4, 9]`"
   ]
  },
  {
   "cell_type": "code",
   "execution_count": null,
   "metadata": {},
   "outputs": [],
   "source": []
  },
  {
   "cell_type": "markdown",
   "metadata": {},
   "source": [
    "3. Create a function that gets a list of numbers and returns a sorted array.\n",
    "  - Input: (`list`, ascending), where list is a 1D array of `int` or `float`. `ascending` is `True` or `False`.\n",
    "  - Return: `list`\n",
    "  - Example: `f([4, 2, 6, 0, 7], ascending=True) -> [0, 2, 4, 6, 7]`  \n",
    "  - Example: `f([3, 5, 1], ascending=False) -> [5, 3, 1]`"
   ]
  },
  {
   "cell_type": "code",
   "execution_count": null,
   "metadata": {},
   "outputs": [],
   "source": []
  },
  {
   "cell_type": "markdown",
   "metadata": {},
   "source": [
    "4. Create a function that gets a list of strings and converts all strings to lower cases.\n",
    " - Input: `list`, where list is a 1D array of `str`.\n",
    " - Return: `list`\n",
    " - Example: `f(['Boy', 'gIrl', 'small', 'HUGE']) -> ['boy', 'girl', 'small', 'huge']`"
   ]
  },
  {
   "cell_type": "code",
   "execution_count": null,
   "metadata": {},
   "outputs": [],
   "source": []
  },
  {
   "cell_type": "markdown",
   "metadata": {},
   "source": [
    "5. Create a function that gets a list of strings and trims all **empty spaces** before and after letters.\n",
    " - Input: `list`, where list is a 1D array of `str`.\n",
    " - Return: `list`\n",
    " - Example: `f([' Boy', 'g Irl ', ' s m all ', ' HUGE ']) -> ['Boy', 'gIrl', 'small', 'HUGE']`"
   ]
  },
  {
   "cell_type": "code",
   "execution_count": null,
   "metadata": {},
   "outputs": [],
   "source": []
  },
  {
   "cell_type": "markdown",
   "metadata": {},
   "source": [
    "6. Create a function that gets a list of words and returns a merged **string** separating each word by a **space**.\n",
    "  - Input: `list`, where list is a 1D array of `str`.\n",
    "  - Return: `str`\n",
    "  - Example: `f(['Come', 'on', 'boy']) -> 'Come on boy'`"
   ]
  },
  {
   "cell_type": "code",
   "execution_count": null,
   "metadata": {},
   "outputs": [],
   "source": []
  },
  {
   "cell_type": "markdown",
   "metadata": {},
   "source": [
    "7. Create a function that gets **two lists** and returns a **2D list**, **pairing** elements from each list.\n",
    "  - Input: (`list`, `list`), where each list is a 1D array.\n",
    "  - Return: 2D `list`\n",
    "  - Example: `f([1, 2, 3], ['movie1', 'movie2', 'movie3']) -> [[1, 'movie1'], [2, 'movie2'], [3, 'movie3']]`"
   ]
  },
  {
   "cell_type": "code",
   "execution_count": null,
   "metadata": {},
   "outputs": [],
   "source": []
  },
  {
   "cell_type": "markdown",
   "metadata": {},
   "source": [
    "8. Create a function that gets two lists and returns a dictionary, pairing elements from each list.\n",
    "  - Input: (`list`, `list`), where the first list becomes the keys and the second becomes the values.\n",
    "  - Return: `dict`\n",
    "  - Example: `f(['T-shirt', 'Pants', 'Socks'], [2000, 8000, 500]) -> {'T-shirt': 2000, 'Pants': 8000, 'Socks': 500}`"
   ]
  },
  {
   "cell_type": "code",
   "execution_count": null,
   "metadata": {},
   "outputs": [],
   "source": []
  }
 ],
 "metadata": {
  "kernelspec": {
   "display_name": "Python 3",
   "language": "python",
   "name": "python3"
  },
  "language_info": {
   "codemirror_mode": {
    "name": "ipython",
    "version": 3
   },
   "file_extension": ".py",
   "mimetype": "text/x-python",
   "name": "python",
   "nbconvert_exporter": "python",
   "pygments_lexer": "ipython3",
   "version": "3.7.3"
  }
 },
 "nbformat": 4,
 "nbformat_minor": 2
}
